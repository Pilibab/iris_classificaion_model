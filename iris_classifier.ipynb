{
 "cells": [
  {
   "cell_type": "markdown",
   "id": "56eb3f68-19c7-446c-8d9f-e8c4cb0e62a4",
   "metadata": {},
   "source": [
    "# __This notebook will be used to investigate and implement different classification models using the iris data set__"
   ]
  },
  {
   "cell_type": "code",
   "execution_count": 6,
   "id": "a1dff9b8-c2d2-451f-a6d9-b83c429b1671",
   "metadata": {},
   "outputs": [],
   "source": [
    "import pandas as pd\n",
    "import numpy as np\n",
    "import matplotlib.pyplot as plt"
   ]
  },
  {
   "cell_type": "markdown",
   "id": "de8a7413-2b9f-46f0-80bf-676ec86158c7",
   "metadata": {},
   "source": [
    "### __Loading data set__"
   ]
  },
  {
   "cell_type": "code",
   "execution_count": 11,
   "id": "04552383-4843-4f0e-99a8-541a366833b3",
   "metadata": {},
   "outputs": [
    {
     "name": "stdout",
     "output_type": "stream",
     "text": [
      "   Id  SepalLengthCm  SepalWidthCm  PetalLengthCm  PetalWidthCm      Species\n",
      "0   1            5.1           3.5            1.4           0.2  Iris-setosa\n",
      "1   2            4.9           3.0            1.4           0.2  Iris-setosa\n",
      "2   3            4.7           3.2            1.3           0.2  Iris-setosa\n",
      "3   4            4.6           3.1            1.5           0.2  Iris-setosa\n",
      "4   5            5.0           3.6            1.4           0.2  Iris-setosa\n"
     ]
    }
   ],
   "source": [
    "IRIS_DATASET = pd.read_csv(\"iris data set\\iris.csv\")\n",
    "iris_df = pd.DataFrame(IRIS_DATASET)\n",
    "print(iris_df.head(5))"
   ]
  },
  {
   "cell_type": "markdown",
   "id": "1c3e48b9-6c38-442a-a34e-32e199aa92fc",
   "metadata": {},
   "source": [
    "### __Visualizing data__"
   ]
  },
  {
   "cell_type": "code",
   "execution_count": 8,
   "id": "39d9754a-6762-4b8d-ad29-f534d2ce7599",
   "metadata": {},
   "outputs": [
    {
     "data": {
      "text/plain": [
       "<matplotlib.collections.PathCollection at 0x13be42acb90>"
      ]
     },
     "execution_count": 8,
     "metadata": {},
     "output_type": "execute_result"
    },
    {
     "data": {
      "image/png": "[encoded data removed]",
      "text/plain": [
       "<Figure size 640x480 with 1 Axes>"
      ]
     },
     "metadata": {},
     "output_type": "display_data"
    }
   ],
   "source": [
    "x = iris_df[\"SepalWidthCm\"]\n",
    "y = iris_df[\"SepalLengthCm\"]\n",
    "species = iris_df[\"Species\"]\n",
    "\n",
    "colors = {\n",
    "    \"Iris-setosa\": \"red\",\n",
    "    \"Iris-versicolor\": \"blue\",\n",
    "    \"Iris-virginica\":\"yellow\"\n",
    "}\n",
    "\n",
    "for \n",
    "plt.scatter(x,y)"
   ]
  },
  {
   "cell_type": "markdown",
   "id": "113c881c-a6fb-454c-9742-9f5d4cf63856",
   "metadata": {},
   "source": [
    "### __KNN prediction__\n",
    "#### Vanilla python "
   ]
  },
  {
   "cell_type": "code",
   "execution_count": null,
   "id": "4b3cdd2d-128f-4821-ae1e-6beb43c8203e",
   "metadata": {},
   "outputs": [],
   "source": []
  }
 ],
 "metadata": {
  "kernelspec": {
   "display_name": "Python 3 (ipykernel)",
   "language": "python",
   "name": "python3"
  },
  "language_info": {
   "codemirror_mode": {
    "name": "ipython",
    "version": 3
   },
   "file_extension": ".py",
   "mimetype": "text/x-python",
   "name": "python",
   "nbconvert_exporter": "python",
   "pygments_lexer": "ipython3",
   "version": "3.11.3"
  }
 },
 "nbformat": 4,
 "nbformat_minor": 5
}
